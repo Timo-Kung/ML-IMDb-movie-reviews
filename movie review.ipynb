{
 "cells": [
  {
   "cell_type": "code",
   "execution_count": 1,
   "id": "8b9055df",
   "metadata": {},
   "outputs": [],
   "source": [
    "from sklearn.feature_extraction.text import TfidfVectorizer\n",
    "from sklearn.linear_model import LogisticRegression\n",
    "from sklearn.metrics import accuracy_score\n",
    "from sklearn.model_selection import train_test_split\n",
    "from sklearn.metrics import classification_report, confusion_matrix\n",
    "from sklearn.metrics import accuracy_score\n",
    "import matplotlib.pyplot as plt\n",
    "import seaborn as sns\n",
    "import numpy as np\n",
    "import pandas as pd\n",
    "import os\n",
    "import re"
   ]
  },
  {
   "cell_type": "code",
   "execution_count": 2,
   "id": "ac930f31",
   "metadata": {},
   "outputs": [],
   "source": [
    "reviews_train = []\n",
    "for line in open('./movie_data/full_train.txt', 'r',encoding=\"utf-8\"):\n",
    "    \n",
    "    reviews_train.append(line.strip())\n",
    "    \n",
    "reviews_test = []\n",
    "for line in open('./movie_data/full_test.txt', 'r',encoding=\"utf-8\"):\n",
    "    \n",
    "    reviews_test.append(line.strip())"
   ]
  },
  {
   "cell_type": "code",
   "execution_count": 3,
   "id": "bd924497",
   "metadata": {},
   "outputs": [
    {
     "data": {
      "text/plain": [
       "\"This isn't the comedic Robin Williams, nor is it the quirky/insane Robin Williams of recent thriller fame. This is a hybrid of the classic drama without over-dramatization, mixed with Robin's new love of the thriller. But this isn't a thriller, per se. This is more a mystery/suspense vehicle through which Williams attempts to locate a sick boy and his keeper.<br /><br />Also starring Sandra Oh and Rory Culkin, this Suspense Drama plays pretty much like a news report, until William's character gets close to achieving his goal.<br /><br />I must say that I was highly entertained, though this movie fails to teach, guide, inspect, or amuse. It felt more like I was watching a guy (Williams), as he was actually performing the actions, from a third person perspective. In other words, it felt real, and I was able to subscribe to the premise of the story.<br /><br />All in all, it's worth a watch, though it's definitely not Friday/Saturday night fare.<br /><br />It rates a 7.7/10 from...<br /><br />the Fiend :.\""
      ]
     },
     "execution_count": 3,
     "metadata": {},
     "output_type": "execute_result"
    }
   ],
   "source": [
    "reviews_train[5]"
   ]
  },
  {
   "cell_type": "code",
   "execution_count": 4,
   "id": "1bd672cf",
   "metadata": {},
   "outputs": [],
   "source": [
    "# Data Clean and Preprocess\n",
    "from nltk.corpus import stopwords\n",
    "\n",
    "REPLACE_NO_SPACE = re.compile(\"(\\.)|(\\;)|(\\:)|(\\!)|(\\')|(\\?)|(\\,)|(\\\")|(\\()|(\\))|(\\[)|(\\])|(\\d+)\")\n",
    "REPLACE_WITH_SPACE = re.compile(\"(<br\\s*/><br\\s*/>)|(\\-)|(\\/)\")\n",
    "NO_SPACE = \"\"\n",
    "SPACE = \" \"\n",
    "\n",
    "# \"sub\" 替換str\n",
    "def preprocess_reviews(reviews):\n",
    "    reviews = [REPLACE_NO_SPACE.sub(NO_SPACE, line.lower()) for line in reviews]\n",
    "    reviews = [REPLACE_WITH_SPACE.sub(SPACE, line) for line in reviews]\n",
    "    return reviews\n",
    "\n",
    "# Remove Stop Words\n",
    "english_stop_words = stopwords.words('english')\n",
    "def remove_stop_words(corpus):\n",
    "    removed_stop_words = []\n",
    "    for review in corpus:\n",
    "        removed_stop_words.append(\n",
    "            ' '.join([word for word in review.split() \n",
    "                      if word not in english_stop_words])\n",
    "        )\n",
    "    return removed_stop_words\n",
    "\n",
    "# 去除字尾Lemmatization\n",
    "def get_lemmatized_text(corpus):\n",
    "    from nltk.stem import WordNetLemmatizer\n",
    "    lemmatizer = WordNetLemmatizer()\n",
    "    return [' '.join([lemmatizer.lemmatize(word) for word in review.split()]) for review in corpus]\n",
    "\n",
    "reviews_train_clean = preprocess_reviews(reviews_train)\n",
    "reviews_test_clean = preprocess_reviews(reviews_test)\n",
    "\n",
    "no_stop_words_train = remove_stop_words(reviews_train_clean)\n",
    "no_stop_words_test = remove_stop_words(reviews_test_clean)\n",
    "\n",
    "all_clean_train = get_lemmatized_text(no_stop_words_train)\n",
    "all_clean_test = get_lemmatized_text(no_stop_words_test)"
   ]
  },
  {
   "cell_type": "code",
   "execution_count": 5,
   "id": "fda692e7",
   "metadata": {},
   "outputs": [
    {
     "data": {
      "text/plain": [
       "'isnt comedic robin williams quirky insane robin williams recent thriller fame hybrid classic drama without dramatization mixed robin new love thriller isnt thriller per se mystery suspense vehicle williams attempt locate sick boy keeper also starring sandra oh rory culkin suspense drama play pretty much like news report williams character get close achieving goal must say highly entertained though movie fails teach guide inspect amuse felt like watching guy williams actually performing action third person perspective word felt real able subscribe premise story worth watch though definitely friday saturday night fare rate fiend'"
      ]
     },
     "execution_count": 5,
     "metadata": {},
     "output_type": "execute_result"
    }
   ],
   "source": [
    "all_clean_train[5]"
   ]
  },
  {
   "cell_type": "code",
   "execution_count": 6,
   "id": "63cacb35",
   "metadata": {},
   "outputs": [
    {
     "data": {
      "text/plain": [
       "'\\nCountVectorizer會計算單字出現在文件的次數，CountVectorize\\nCountVectorizer是屬於常見的特徵數值計算類，是一個文字特徵提取方法。對於每一個訓練文字，它只考慮每種詞彙在該訓練文字中出現的頻率。\\nCountVectorizer會將文字中的詞語轉換為詞頻矩陣，它通過fit_transform函式計算各個詞語出現的次數\\n'"
      ]
     },
     "execution_count": 6,
     "metadata": {},
     "output_type": "execute_result"
    }
   ],
   "source": [
    "'''\n",
    "CountVectorizer會計算單字出現在文件的次數, 屬於常見的特徵數值計算類，是一個文字特徵提取方法。對於每一個訓練文字，它只考慮每種詞彙在該訓練文字中出現的頻率, \n",
    "並將文字中的詞語轉換為詞頻矩陣，它通過fit_transform函式計算各個詞語出現的次數\n",
    "'''"
   ]
  },
  {
   "cell_type": "code",
   "execution_count": 7,
   "id": "585af06b",
   "metadata": {},
   "outputs": [],
   "source": [
    "from sklearn.feature_extraction.text import CountVectorizer\n",
    "# 建立詞袋資料結構\n",
    "stop_words = ['in', 'of', 'at', 'a', 'the']\n",
    "cv = CountVectorizer(binary=True, ngram_range=(1, 2), stop_words=stop_words)\n",
    "# CountVectorizer是通過fit_transform函式將文字中的詞語轉換為詞頻矩陣\n",
    "cv.fit(all_clean_train)\n",
    "X = cv.transform(all_clean_train)\n",
    "X_test = cv.transform(all_clean_test)\n",
    "\n",
    "target = [1 if i < 12500 else 0 for i in range(25000)]\n",
    "\n",
    "X_train, X_val, y_train, y_val = train_test_split(\n",
    "    X, target, train_size = 0.75\n",
    ")"
   ]
  },
  {
   "cell_type": "code",
   "execution_count": 8,
   "id": "b5dd0cc5",
   "metadata": {},
   "outputs": [],
   "source": [
    "# for c in [0.01, 0.05, 0.25, 0.5, 1]:\n",
    "#     lr = LogisticRegression(C=c)\n",
    "#     lr.fit(X_train, y_train)\n",
    "#     print (\"Accuracy for C=%s: %s\" \n",
    "#            % (c, accuracy_score(y_val, lr.predict(X_val))))"
   ]
  },
  {
   "cell_type": "code",
   "execution_count": 9,
   "id": "7579e4b9",
   "metadata": {},
   "outputs": [
    {
     "data": {
      "text/plain": [
       "'\\nLogistic Regression\\n(1) They’re easy to interpret\\n(2) linear models tend to perform well on sparse datasets like this one\\n(3) they learn very fast compared to other algorithms.\\n'"
      ]
     },
     "execution_count": 9,
     "metadata": {},
     "output_type": "execute_result"
    }
   ],
   "source": [
    "'''\n",
    "Logistic Regression\n",
    "(1) They’re easy to interpret\n",
    "(2) linear models tend to perform well on sparse datasets like this one\n",
    "(3) they learn very fast compared to other algorithms.\n",
    "'''"
   ]
  },
  {
   "cell_type": "code",
   "execution_count": 10,
   "id": "da3caef4",
   "metadata": {},
   "outputs": [
    {
     "name": "stdout",
     "output_type": "stream",
     "text": [
      "LogisticRegression(C=0.01)\n",
      "Train Accuracy: 0.87584\n"
     ]
    },
    {
     "data": {
      "image/png": "[encoded data removed]",
      "text/plain": [
       "<Figure size 432x288 with 2 Axes>"
      ]
     },
     "metadata": {
      "needs_background": "light"
     },
     "output_type": "display_data"
    },
    {
     "name": "stdout",
     "output_type": "stream",
     "text": [
      "Final Accuracy: 0.88008\n",
      "report:\n",
      "               precision    recall  f1-score   support\n",
      "\n",
      "           0       0.89      0.87      0.88     12500\n",
      "           1       0.87      0.89      0.88     12500\n",
      "\n",
      "    accuracy                           0.88     25000\n",
      "   macro avg       0.88      0.88      0.88     25000\n",
      "weighted avg       0.88      0.88      0.88     25000\n",
      "\n"
     ]
    }
   ],
   "source": [
    "c001_model = LogisticRegression(C=0.01)\n",
    "\n",
    "c001_model.fit(X_train, y_train)\n",
    "print(\"LogisticRegression(C=0.01)\")\n",
    "print (\"Train Accuracy:\", accuracy_score(y_val, c001_model.predict(X_val)))\n",
    "\n",
    "c001_model.fit(X, target)\n",
    "mat = confusion_matrix(target, c001_model.predict(X_test))\n",
    "sns.heatmap(mat,square= True, annot=True, cbar= True, fmt=\"d\", linewidths=0.3,linecolor=\"grey\", cmap=\"RdBu_r\") \n",
    "plt.xlabel(\"predicted value\")\n",
    "plt.ylabel(\"true value\")\n",
    "plt.show()\n",
    "print (\"Final Accuracy: %s\" \n",
    "       % accuracy_score(target, c001_model.predict(X_test)))\n",
    "print(\"report:\\n\", classification_report(target, c001_model.predict(X_test)))"
   ]
  },
  {
   "cell_type": "code",
   "execution_count": 11,
   "id": "fe6b3e39",
   "metadata": {},
   "outputs": [
    {
     "name": "stdout",
     "output_type": "stream",
     "text": [
      "LogisticRegression(C=0.05)\n",
      "Train Accuracy: 0.8824\n"
     ]
    },
    {
     "data": {
      "image/png": "[encoded data removed]",
      "text/plain": [
       "<Figure size 432x288 with 2 Axes>"
      ]
     },
     "metadata": {
      "needs_background": "light"
     },
     "output_type": "display_data"
    },
    {
     "name": "stdout",
     "output_type": "stream",
     "text": [
      "Final Accuracy: 0.88648\n",
      "report:\n",
      "               precision    recall  f1-score   support\n",
      "\n",
      "           0       0.89      0.88      0.89     12500\n",
      "           1       0.88      0.89      0.89     12500\n",
      "\n",
      "    accuracy                           0.89     25000\n",
      "   macro avg       0.89      0.89      0.89     25000\n",
      "weighted avg       0.89      0.89      0.89     25000\n",
      "\n"
     ]
    }
   ],
   "source": [
    "c005_model = LogisticRegression(C=0.05)\n",
    "\n",
    "c005_model.fit(X_train, y_train)\n",
    "print(\"LogisticRegression(C=0.05)\")\n",
    "print (\"Train Accuracy:\", accuracy_score(y_val, c005_model.predict(X_val)))\n",
    "\n",
    "c005_model.fit(X, target)\n",
    "mat = confusion_matrix(target, c005_model.predict(X_test))\n",
    "sns.heatmap(mat,square= True, annot=True, cbar= True, fmt=\"d\", linewidths=0.3,linecolor=\"grey\", cmap=\"RdBu_r\") \n",
    "plt.xlabel(\"predicted value\")\n",
    "plt.ylabel(\"true value\")\n",
    "plt.show()\n",
    "print (\"Final Accuracy: %s\" \n",
    "       % accuracy_score(target, c005_model.predict(X_test)))\n",
    "print(\"report:\\n\", classification_report(target, c005_model.predict(X_test)))"
   ]
  },
  {
   "cell_type": "code",
   "execution_count": 12,
   "id": "b2379f0d",
   "metadata": {},
   "outputs": [
    {
     "name": "stdout",
     "output_type": "stream",
     "text": [
      "LogisticRegression(C=0.25)\n",
      "Train Accuracy: 0.88384\n"
     ]
    },
    {
     "data": {
      "image/png": "[encoded data removed]",
      "text/plain": [
       "<Figure size 432x288 with 2 Axes>"
      ]
     },
     "metadata": {
      "needs_background": "light"
     },
     "output_type": "display_data"
    },
    {
     "name": "stdout",
     "output_type": "stream",
     "text": [
      "Final Accuracy: 0.88696\n",
      "report:\n",
      "               precision    recall  f1-score   support\n",
      "\n",
      "           0       0.89      0.88      0.89     12500\n",
      "           1       0.88      0.89      0.89     12500\n",
      "\n",
      "    accuracy                           0.89     25000\n",
      "   macro avg       0.89      0.89      0.89     25000\n",
      "weighted avg       0.89      0.89      0.89     25000\n",
      "\n"
     ]
    }
   ],
   "source": [
    "c025_model = LogisticRegression(C=0.25)\n",
    "\n",
    "c025_model.fit(X_train, y_train)\n",
    "print(\"LogisticRegression(C=0.25)\")\n",
    "print (\"Train Accuracy:\", accuracy_score(y_val, c025_model.predict(X_val)))\n",
    "\n",
    "c025_model.fit(X, target)\n",
    "mat = confusion_matrix(target, c025_model.predict(X_test))\n",
    "sns.heatmap(mat,square= True, annot=True, cbar= True, fmt=\"d\", linewidths=0.3,linecolor=\"grey\", cmap=\"RdBu_r\") \n",
    "plt.xlabel(\"predicted value\")\n",
    "plt.ylabel(\"true value\")\n",
    "plt.show()\n",
    "print (\"Final Accuracy: %s\" \n",
    "       % accuracy_score(target, c025_model.predict(X_test)))\n",
    "print(\"report:\\n\", classification_report(target, c025_model.predict(X_test)))"
   ]
  },
  {
   "cell_type": "code",
   "execution_count": 13,
   "id": "2b58afd5",
   "metadata": {},
   "outputs": [
    {
     "name": "stdout",
     "output_type": "stream",
     "text": [
      "LogisticRegression(C=0.5)\n",
      "Train Accuracy: 0.88432\n"
     ]
    },
    {
     "data": {
      "image/png": "[encoded data removed]",
      "text/plain": [
       "<Figure size 432x288 with 2 Axes>"
      ]
     },
     "metadata": {
      "needs_background": "light"
     },
     "output_type": "display_data"
    },
    {
     "name": "stdout",
     "output_type": "stream",
     "text": [
      "Final Accuracy: 0.88744\n",
      "report:\n",
      "               precision    recall  f1-score   support\n",
      "\n",
      "           0       0.89      0.88      0.89     12500\n",
      "           1       0.88      0.89      0.89     12500\n",
      "\n",
      "    accuracy                           0.89     25000\n",
      "   macro avg       0.89      0.89      0.89     25000\n",
      "weighted avg       0.89      0.89      0.89     25000\n",
      "\n"
     ]
    }
   ],
   "source": [
    "c05_model = LogisticRegression(C=0.5)\n",
    "\n",
    "c05_model.fit(X_train, y_train)\n",
    "print(\"LogisticRegression(C=0.5)\")\n",
    "print (\"Train Accuracy:\", accuracy_score(y_val, c05_model.predict(X_val)))\n",
    "\n",
    "c05_model.fit(X, target)\n",
    "mat = confusion_matrix(target, c05_model.predict(X_test))\n",
    "sns.heatmap(mat,square= True, annot=True, cbar= True, fmt=\"d\", linewidths=0.3,linecolor=\"grey\", cmap=\"RdBu_r\") \n",
    "plt.xlabel(\"predicted value\")\n",
    "plt.ylabel(\"true value\")\n",
    "plt.show()\n",
    "print (\"Final Accuracy: %s\" \n",
    "       % accuracy_score(target, c05_model.predict(X_test)))\n",
    "print(\"report:\\n\", classification_report(target, c05_model.predict(X_test)))"
   ]
  },
  {
   "cell_type": "code",
   "execution_count": 24,
   "id": "4749050c",
   "metadata": {},
   "outputs": [
    {
     "name": "stdout",
     "output_type": "stream",
     "text": [
      "LogisticRegression(C=1)\n",
      "Train Accuracy: 0.88464\n"
     ]
    },
    {
     "name": "stderr",
     "output_type": "stream",
     "text": [
      "C:\\Users\\Timo\\.conda\\envs\\ml\\lib\\site-packages\\sklearn\\linear_model\\_logistic.py:814: ConvergenceWarning: lbfgs failed to converge (status=1):\n",
      "STOP: TOTAL NO. of ITERATIONS REACHED LIMIT.\n",
      "\n",
      "Increase the number of iterations (max_iter) or scale the data as shown in:\n",
      "    https://scikit-learn.org/stable/modules/preprocessing.html\n",
      "Please also refer to the documentation for alternative solver options:\n",
      "    https://scikit-learn.org/stable/modules/linear_model.html#logistic-regression\n",
      "  n_iter_i = _check_optimize_result(\n"
     ]
    },
    {
     "data": {
      "image/png": "[encoded data removed]",
      "text/plain": [
       "<Figure size 432x288 with 2 Axes>"
      ]
     },
     "metadata": {
      "needs_background": "light"
     },
     "output_type": "display_data"
    },
    {
     "name": "stdout",
     "output_type": "stream",
     "text": [
      "Final Accuracy: 0.88668\n",
      "report:\n",
      "               precision    recall  f1-score   support\n",
      "\n",
      "           0       0.89      0.88      0.89     12500\n",
      "           1       0.88      0.89      0.89     12500\n",
      "\n",
      "    accuracy                           0.89     25000\n",
      "   macro avg       0.89      0.89      0.89     25000\n",
      "weighted avg       0.89      0.89      0.89     25000\n",
      "\n"
     ]
    }
   ],
   "source": [
    "c1_model = LogisticRegression(C=1)\n",
    "\n",
    "c1_model.fit(X_train, y_train)\n",
    "print(\"LogisticRegression(C=1)\")\n",
    "print (\"Train Accuracy:\", accuracy_score(y_val, c1_model.predict(X_val)))\n",
    "\n",
    "c1_model.fit(X, target)\n",
    "mat = confusion_matrix(target, c1_model.predict(X_test))\n",
    "sns.heatmap(mat,square= True, annot=True, cbar= True, fmt=\"d\", linewidths=0.3,linecolor=\"grey\", cmap=\"RdBu_r\") \n",
    "plt.xlabel(\"predicted value\")\n",
    "plt.ylabel(\"true value\")\n",
    "plt.show()\n",
    "print (\"Final Accuracy: %s\" \n",
    "       % accuracy_score(target, c1_model.predict(X_test)))\n",
    "print(\"report:\\n\", classification_report(target, c1_model.predict(X_test)))"
   ]
  },
  {
   "cell_type": "code",
   "execution_count": 15,
   "id": "5403cdaf",
   "metadata": {},
   "outputs": [
    {
     "data": {
      "text/plain": [
       "'\\nLemmatization和Stemming之間做選擇。這兩者之間最主要的差別在於，\\nlemma會盡可能把恢復成字典上有的字，stemming則會把文字的後置 (suffix)整個切掉而不在意切掉後的字是不是字典上有的字。\\n在此選擇Lemmatization\\n'"
      ]
     },
     "execution_count": 15,
     "metadata": {},
     "output_type": "execute_result"
    }
   ],
   "source": [
    "'''\n",
    "Lemmatization和Stemming之間做選擇。這兩者之間最主要的差別在於，\n",
    "lemma會盡可能把恢復成字典上有的字，stemming則會把文字的後置 (suffix)整個切掉而不在意切掉後的字是不是字典上有的字。\n",
    "在此選擇Lemmatization\n",
    "'''"
   ]
  },
  {
   "cell_type": "code",
   "execution_count": 49,
   "id": "e97111e4",
   "metadata": {},
   "outputs": [
    {
     "name": "stdout",
     "output_type": "stream",
     "text": [
      "('excellent', 1.3929334953808152)\n",
      "('perfect', 1.2163553077536546)\n",
      "('wonderful', 0.9989346579700061)\n",
      "('amazing', 0.9853813251005838)\n",
      "('superb', 0.9469934738889548)\n",
      "('must see', 0.9300156279228352)\n",
      "('great', 0.8966133865472193)\n",
      "('favorite', 0.8949378383015916)\n",
      "('enjoyable', 0.8719906157187179)\n",
      "('rare', 0.856537471185116)\n",
      "('funniest', 0.822356843537079)\n",
      "('enjoyed', 0.8142623089784483)\n",
      "('wonderfully', 0.8134562801359972)\n",
      "('loved', 0.7909982052852956)\n",
      "('refreshing', 0.7835881125787469)\n",
      "('well worth', 0.7749160901794733)\n",
      "('fantastic', 0.7711389735977516)\n",
      "('brilliant', 0.7651582471392587)\n",
      "('today', 0.7576592830595064)\n",
      "('perfectly', 0.7170414037750226)\n",
      "\n",
      "\n",
      "('worst', -1.9340956473841393)\n",
      "('awful', -1.5691554783458963)\n",
      "('waste', -1.4686589042227094)\n",
      "('boring', -1.372938100655589)\n",
      "('disappointment', -1.3032397269505969)\n",
      "('poorly', -1.264349726421096)\n",
      "('dull', -1.1987959653762772)\n",
      "('terrible', -1.1724955913401063)\n",
      "('poor', -1.148806028229669)\n",
      "('disappointing', -1.1454752847328185)\n",
      "('bad', -1.0632593474365057)\n",
      "('horrible', -1.0487276609417955)\n",
      "('worse', -1.0459024899155955)\n",
      "('unfortunately', -1.0233559520914832)\n",
      "('fails', -1.0209373306731395)\n",
      "('avoid', -0.9766381839985355)\n",
      "('save', -0.9439979538544006)\n",
      "('weak', -0.9205552784472302)\n",
      "('mess', -0.9110308651985354)\n",
      "('ridiculous', -0.8694581644183611)\n"
     ]
    }
   ],
   "source": [
    "from wordcloud import WordCloud,STOPWORDS\n",
    "\n",
    "feature_to_coef = {\n",
    "    word: coef for word, coef in zip(\n",
    "        cv.get_feature_names(), c05_model.coef_[0]\n",
    "    )\n",
    "}\n",
    "\n",
    "#  5 most discriminating words for both positive and negative reviews\n",
    "\n",
    "for best_positive in sorted(\n",
    "    feature_to_coef.items(), \n",
    "    key=lambda x: x[1], \n",
    "    reverse=True)[:20]:\n",
    "    print (best_positive)\n",
    "    \n",
    "print(\"\\n\")\n",
    "\n",
    "for best_negative in sorted(\n",
    "    feature_to_coef.items(), \n",
    "    key=lambda x: x[1])[:20]:\n",
    "    print (best_negative)"
   ]
  },
  {
   "cell_type": "code",
   "execution_count": 27,
   "id": "ccc7722b",
   "metadata": {},
   "outputs": [
    {
     "name": "stdout",
     "output_type": "stream",
     "text": [
      "Accuracy for C=0.001: 0.87824\n",
      "Accuracy for C=0.005: 0.88384\n",
      "Accuracy for C=0.01: 0.88496\n",
      "Accuracy for C=0.05: 0.88352\n",
      "Accuracy for C=0.1: 0.88336\n"
     ]
    },
    {
     "data": {
      "image/png": "[encoded data removed]",
      "text/plain": [
       "<Figure size 432x288 with 2 Axes>"
      ]
     },
     "metadata": {
      "needs_background": "light"
     },
     "output_type": "display_data"
    },
    {
     "name": "stdout",
     "output_type": "stream",
     "text": [
      "SVM Final Accuracy: 0.88648\n",
      "report:\n",
      "               precision    recall  f1-score   support\n",
      "\n",
      "           0       0.89      0.88      0.89     12500\n",
      "           1       0.88      0.89      0.89     12500\n",
      "\n",
      "    accuracy                           0.89     25000\n",
      "   macro avg       0.89      0.89      0.89     25000\n",
      "weighted avg       0.89      0.89      0.89     25000\n",
      "\n"
     ]
    }
   ],
   "source": [
    "# Algorithms\n",
    "# Support Vector Machines (SVM)\n",
    "from sklearn.feature_extraction.text import CountVectorizer\n",
    "from sklearn.svm import LinearSVC\n",
    "from sklearn.metrics import accuracy_score\n",
    "from sklearn.model_selection import train_test_split\n",
    "\n",
    "for c in [0.001, 0.005, 0.01, 0.05, 0.1]:\n",
    "    svm = LinearSVC(C=c)\n",
    "    svm.fit(X_train, y_train)\n",
    "    print (\"Accuracy for C=%s: %s\" \n",
    "           % (c, accuracy_score(y_val, svm.predict(X_val))))\n",
    "\n",
    "final_svm = LinearSVC(C=0.01)\n",
    "final_svm.fit(X, target)\n",
    "mat = confusion_matrix(target, final_svm.predict(X_test))\n",
    "sns.heatmap(mat,square= True, annot=True, cbar= True, fmt=\"d\", linewidths=0.3,linecolor=\"grey\", cmap=\"RdBu_r\") \n",
    "plt.xlabel(\"predicted value\")\n",
    "plt.ylabel(\"true value\")\n",
    "plt.show()\n",
    "print (\"SVM Final Accuracy: %s\" \n",
    "       % accuracy_score(target, final_svm.predict(X_test)))\n",
    "print(\"report:\\n\", classification_report(target, final_svm.predict(X_test)))"
   ]
  },
  {
   "cell_type": "code",
   "execution_count": 28,
   "id": "c049454f",
   "metadata": {},
   "outputs": [
    {
     "data": {
      "image/png": "[encoded data removed]",
      "text/plain": [
       "<Figure size 432x288 with 2 Axes>"
      ]
     },
     "metadata": {
      "needs_background": "light"
     },
     "output_type": "display_data"
    },
    {
     "name": "stdout",
     "output_type": "stream",
     "text": [
      "DecisionTree Final Accuracy: 0.7294\n",
      "report:\n",
      "               precision    recall  f1-score   support\n",
      "\n",
      "           0       0.73      0.72      0.73     12500\n",
      "           1       0.73      0.74      0.73     12500\n",
      "\n",
      "    accuracy                           0.73     25000\n",
      "   macro avg       0.73      0.73      0.73     25000\n",
      "weighted avg       0.73      0.73      0.73     25000\n",
      "\n"
     ]
    }
   ],
   "source": [
    "from sklearn import tree\n",
    "\n",
    "DecisionTree = tree.DecisionTreeClassifier()\n",
    "DecisionTree.fit(X, target)\n",
    "mat = confusion_matrix(target, DecisionTree.predict(X_test))\n",
    "sns.heatmap(mat,square= True, annot=True, cbar= True, fmt=\"d\", linewidths=0.3,linecolor=\"grey\", cmap=\"RdBu_r\")  \n",
    "plt.xlabel(\"predicted value\")\n",
    "plt.ylabel(\"true value\")\n",
    "plt.show()\n",
    "print (\"DecisionTree Final Accuracy: %s\" \n",
    "       % accuracy_score(target, DecisionTree.predict(X_test)))\n",
    "print(\"report:\\n\", classification_report(target, DecisionTree.predict(X_test)))"
   ]
  },
  {
   "cell_type": "code",
   "execution_count": 32,
   "id": "a19a4e4e",
   "metadata": {
    "scrolled": true
   },
   "outputs": [
    {
     "data": {
      "image/png": "[encoded data removed]",
      "text/plain": [
       "<Figure size 432x288 with 2 Axes>"
      ]
     },
     "metadata": {
      "needs_background": "light"
     },
     "output_type": "display_data"
    },
    {
     "name": "stdout",
     "output_type": "stream",
     "text": [
      "RandomForest Final Accuracy: 0.70908\n",
      "report:\n",
      "               precision    recall  f1-score   support\n",
      "\n",
      "           0       0.75      0.62      0.68     12500\n",
      "           1       0.68      0.79      0.73     12500\n",
      "\n",
      "    accuracy                           0.71     25000\n",
      "   macro avg       0.72      0.71      0.71     25000\n",
      "weighted avg       0.72      0.71      0.71     25000\n",
      "\n"
     ]
    }
   ],
   "source": [
    "from sklearn.ensemble import RandomForestClassifier\n",
    "\n",
    "RandomForest = RandomForestClassifier(max_depth=2, random_state=0)\n",
    "RandomForest.fit(X, target)\n",
    "mat = confusion_matrix(target, RandomForest.predict(X_test))\n",
    "sns.heatmap(mat,square= True, annot=True, cbar= True, fmt=\"d\", linewidths=0.3,linecolor=\"grey\", cmap=\"RdBu_r\") \n",
    "plt.xlabel(\"predicted value\")\n",
    "plt.ylabel(\"true value\")\n",
    "plt.show()\n",
    "print (\"RandomForest Final Accuracy: %s\" \n",
    "       % accuracy_score(target, RandomForest.predict(X_test)))\n",
    "print(\"report:\\n\", classification_report(target, RandomForest.predict(X_test)))"
   ]
  },
  {
   "cell_type": "code",
   "execution_count": 30,
   "id": "2534484c",
   "metadata": {},
   "outputs": [
    {
     "data": {
      "image/png": "[encoded data removed]",
      "text/plain": [
       "<Figure size 432x288 with 2 Axes>"
      ]
     },
     "metadata": {
      "needs_background": "light"
     },
     "output_type": "display_data"
    },
    {
     "name": "stdout",
     "output_type": "stream",
     "text": [
      "KNeighbors Final Accuracy: 0.5\n",
      "report:\n",
      "               precision    recall  f1-score   support\n",
      "\n",
      "           0       0.00      0.00      0.00     12500\n",
      "           1       0.50      1.00      0.67     12500\n",
      "\n",
      "    accuracy                           0.50     25000\n",
      "   macro avg       0.25      0.50      0.33     25000\n",
      "weighted avg       0.25      0.50      0.33     25000\n",
      "\n"
     ]
    },
    {
     "name": "stderr",
     "output_type": "stream",
     "text": [
      "C:\\Users\\Timo\\.conda\\envs\\ml\\lib\\site-packages\\sklearn\\metrics\\_classification.py:1318: UndefinedMetricWarning: Precision and F-score are ill-defined and being set to 0.0 in labels with no predicted samples. Use `zero_division` parameter to control this behavior.\n",
      "  _warn_prf(average, modifier, msg_start, len(result))\n",
      "C:\\Users\\Timo\\.conda\\envs\\ml\\lib\\site-packages\\sklearn\\metrics\\_classification.py:1318: UndefinedMetricWarning: Precision and F-score are ill-defined and being set to 0.0 in labels with no predicted samples. Use `zero_division` parameter to control this behavior.\n",
      "  _warn_prf(average, modifier, msg_start, len(result))\n",
      "C:\\Users\\Timo\\.conda\\envs\\ml\\lib\\site-packages\\sklearn\\metrics\\_classification.py:1318: UndefinedMetricWarning: Precision and F-score are ill-defined and being set to 0.0 in labels with no predicted samples. Use `zero_division` parameter to control this behavior.\n",
      "  _warn_prf(average, modifier, msg_start, len(result))\n"
     ]
    }
   ],
   "source": [
    "from sklearn.neighbors import KNeighborsClassifier\n",
    "from sklearn.preprocessing import StandardScaler\n",
    "from sklearn.pipeline import make_pipeline\n",
    "\n",
    "k = 5   # 選擇 K 值\n",
    "weights = 'uniform'  # 選擇權重：'uniform' 或 'distance'\n",
    "\n",
    "KNeighbors = make_pipeline(StandardScaler(with_mean=False),KNeighborsClassifier(n_neighbors=k, weights=weights))\n",
    "KNeighbors.fit(X, target)\n",
    "mat = confusion_matrix(target, KNeighbors.predict(X_test))\n",
    "sns.heatmap(mat,square= True, annot=True, cbar= True, fmt=\"d\", linewidths=0.3,linecolor=\"grey\", cmap=\"RdBu_r\") \n",
    "plt.xlabel(\"predicted value\")\n",
    "plt.ylabel(\"true value\")\n",
    "plt.show()\n",
    "print (\"KNeighbors Final Accuracy: %s\" \n",
    "       % accuracy_score(target, KNeighbors.predict(X_test)))\n",
    "print(\"report:\\n\", classification_report(target, KNeighbors.predict(X_test)))"
   ]
  },
  {
   "cell_type": "code",
   "execution_count": 31,
   "id": "1f42ee56",
   "metadata": {},
   "outputs": [
    {
     "data": {
      "image/png": "[encoded data removed]",
      "text/plain": [
       "<Figure size 432x288 with 2 Axes>"
      ]
     },
     "metadata": {
      "needs_background": "light"
     },
     "output_type": "display_data"
    },
    {
     "name": "stdout",
     "output_type": "stream",
     "text": [
      "SGD Final Accuracy: 0.74708\n",
      "report:\n",
      "               precision    recall  f1-score   support\n",
      "\n",
      "           0       0.73      0.78      0.75     12500\n",
      "           1       0.76      0.72      0.74     12500\n",
      "\n",
      "    accuracy                           0.75     25000\n",
      "   macro avg       0.75      0.75      0.75     25000\n",
      "weighted avg       0.75      0.75      0.75     25000\n",
      "\n"
     ]
    }
   ],
   "source": [
    "from sklearn.linear_model import SGDClassifier\n",
    "from sklearn.preprocessing import StandardScaler\n",
    "from sklearn.pipeline import make_pipeline\n",
    "\n",
    "\n",
    "k = 5   # 選擇 K 值\n",
    "weights = 'uniform'  # 選擇權重：'uniform' 或 'distance'\n",
    "\n",
    "SGD = make_pipeline(StandardScaler(with_mean=False),SGDClassifier(max_iter=1000, tol=1e-3))\n",
    "SGD.fit(X, target)\n",
    "mat = confusion_matrix(target, SGD.predict(X_test))\n",
    "sns.heatmap(mat,square= True, annot=True, cbar= True, fmt=\"d\", linewidths=0.3,linecolor=\"grey\", cmap=\"RdBu_r\") \n",
    "plt.xlabel(\"predicted value\")\n",
    "plt.ylabel(\"true value\")\n",
    "plt.show()\n",
    "print (\"SGD Final Accuracy: %s\" \n",
    "       % accuracy_score(target, SGD.predict(X_test)))\n",
    "print(\"report:\\n\", classification_report(target, SGD.predict(X_test)))"
   ]
  },
  {
   "cell_type": "code",
   "execution_count": null,
   "id": "03e9beb7",
   "metadata": {},
   "outputs": [],
   "source": []
  }
 ],
 "metadata": {
  "kernelspec": {
   "display_name": "Python 3 (ipykernel)",
   "language": "python",
   "name": "python3"
  },
  "language_info": {
   "codemirror_mode": {
    "name": "ipython",
    "version": 3
   },
   "file_extension": ".py",
   "mimetype": "text/x-python",
   "name": "python",
   "nbconvert_exporter": "python",
   "pygments_lexer": "ipython3",
   "version": "3.9.7"
  }
 },
 "nbformat": 4,
 "nbformat_minor": 5
}
